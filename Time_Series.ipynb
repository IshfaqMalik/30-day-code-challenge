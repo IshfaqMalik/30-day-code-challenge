{
 "cells": [
  {
   "cell_type": "markdown",
   "id": "55ede25e",
   "metadata": {},
   "source": [
    "# 100 days code challange"
   ]
  },
  {
   "cell_type": "markdown",
   "id": "68a2ed69",
   "metadata": {},
   "source": [
    "# Time Series Analysis"
   ]
  },
  {
   "cell_type": "markdown",
   "id": "34a63d67",
   "metadata": {},
   "source": [
    "\n",
    "\n",
    "You can see the source of this data here: https://trends.google.com/trends/explore?date=today%205-y&q=climate%20change\n",
    "\n",
    "Here we will explore using **AR and ARMA models**\n",
    "for modelling this Google trends data, specifically searches of '**climate change**' over the last 5 years worlwide. We will then explore methods for testing the model fits and the forecasts."
   ]
  },
  {
   "cell_type": "code",
   "execution_count": 46,
   "id": "49c19630",
   "metadata": {},
   "outputs": [],
   "source": [
    " #Import libraries\n",
    "import re\n",
    "import pandas as pd\n",
    "from datetime import datetime\n",
    "import numpy as np\n",
    "import matplotlib.pyplot as plt\n",
    "%matplotlib inline\n",
    "\n",
    "from statsmodels.api import tsa\n",
    "from statsmodels.tsa.arima.model import ARIMA\n",
    "\n",
    "from sklearn.linear_model import LinearRegression\n",
    "from sklearn.metrics import mean_absolute_error\n",
    "from statsmodels.tsa.ar_model import ar_select_order, AutoReg\n",
    "from statsmodels.graphics.tsaplots import plot_acf"
   ]
  },
  {
   "cell_type": "code",
   "execution_count": 3,
   "id": "23121aed",
   "metadata": {},
   "outputs": [
    {
     "data": {
      "text/html": [
       "<div>\n",
       "<style scoped>\n",
       "    .dataframe tbody tr th:only-of-type {\n",
       "        vertical-align: middle;\n",
       "    }\n",
       "\n",
       "    .dataframe tbody tr th {\n",
       "        vertical-align: top;\n",
       "    }\n",
       "\n",
       "    .dataframe thead th {\n",
       "        text-align: right;\n",
       "    }\n",
       "</style>\n",
       "<table border=\"1\" class=\"dataframe\">\n",
       "  <thead>\n",
       "    <tr style=\"text-align: right;\">\n",
       "      <th></th>\n",
       "      <th>Category: All categories</th>\n",
       "      <th>Unnamed: 1</th>\n",
       "    </tr>\n",
       "  </thead>\n",
       "  <tbody>\n",
       "    <tr>\n",
       "      <th>0</th>\n",
       "      <td>NaN</td>\n",
       "      <td>NaN</td>\n",
       "    </tr>\n",
       "    <tr>\n",
       "      <th>1</th>\n",
       "      <td>Week</td>\n",
       "      <td>climate change: (Worldwide)</td>\n",
       "    </tr>\n",
       "    <tr>\n",
       "      <th>2</th>\n",
       "      <td>12/05/2019</td>\n",
       "      <td>4</td>\n",
       "    </tr>\n",
       "    <tr>\n",
       "      <th>3</th>\n",
       "      <td>19/05/2019</td>\n",
       "      <td>3</td>\n",
       "    </tr>\n",
       "    <tr>\n",
       "      <th>4</th>\n",
       "      <td>26/05/2019</td>\n",
       "      <td>3</td>\n",
       "    </tr>\n",
       "  </tbody>\n",
       "</table>\n",
       "</div>"
      ],
      "text/plain": [
       "  Category: All categories                   Unnamed: 1\n",
       "0                      NaN                          NaN\n",
       "1                     Week  climate change: (Worldwide)\n",
       "2               12/05/2019                            4\n",
       "3               19/05/2019                            3\n",
       "4               26/05/2019                            3"
      ]
     },
     "execution_count": 3,
     "metadata": {},
     "output_type": "execute_result"
    }
   ],
   "source": [
    "#load dataframe \n",
    "data = pd.read_csv('climate_change.csv')\n",
    "data.head()"
   ]
  },
  {
   "cell_type": "code",
   "execution_count": 29,
   "id": "3f293d03",
   "metadata": {},
   "outputs": [
    {
     "data": {
      "text/html": [
       "<div>\n",
       "<style scoped>\n",
       "    .dataframe tbody tr th:only-of-type {\n",
       "        vertical-align: middle;\n",
       "    }\n",
       "\n",
       "    .dataframe tbody tr th {\n",
       "        vertical-align: top;\n",
       "    }\n",
       "\n",
       "    .dataframe thead th {\n",
       "        text-align: right;\n",
       "    }\n",
       "</style>\n",
       "<table border=\"1\" class=\"dataframe\">\n",
       "  <thead>\n",
       "    <tr style=\"text-align: right;\">\n",
       "      <th></th>\n",
       "      <th>Week</th>\n",
       "      <th>climate change: (Worldwide)</th>\n",
       "    </tr>\n",
       "  </thead>\n",
       "  <tbody>\n",
       "    <tr>\n",
       "      <th>0</th>\n",
       "      <td>12/05/2019</td>\n",
       "      <td>4</td>\n",
       "    </tr>\n",
       "    <tr>\n",
       "      <th>1</th>\n",
       "      <td>19/05/2019</td>\n",
       "      <td>3</td>\n",
       "    </tr>\n",
       "    <tr>\n",
       "      <th>2</th>\n",
       "      <td>26/05/2019</td>\n",
       "      <td>3</td>\n",
       "    </tr>\n",
       "    <tr>\n",
       "      <th>3</th>\n",
       "      <td>02/06/2019</td>\n",
       "      <td>3</td>\n",
       "    </tr>\n",
       "    <tr>\n",
       "      <th>4</th>\n",
       "      <td>09/06/2019</td>\n",
       "      <td>3</td>\n",
       "    </tr>\n",
       "  </tbody>\n",
       "</table>\n",
       "</div>"
      ],
      "text/plain": [
       "         Week  climate change: (Worldwide)\n",
       "0  12/05/2019                            4\n",
       "1  19/05/2019                            3\n",
       "2  26/05/2019                            3\n",
       "3  02/06/2019                            3\n",
       "4  09/06/2019                            3"
      ]
     },
     "execution_count": 29,
     "metadata": {},
     "output_type": "execute_result"
    }
   ],
   "source": [
    "#skipping first two rows \n",
    "data = pd.read_csv('climate_change.csv', skiprows = 2)\n",
    "data.head()"
   ]
  },
  {
   "cell_type": "code",
   "execution_count": 30,
   "id": "9942bf15",
   "metadata": {},
   "outputs": [
    {
     "data": {
      "text/plain": [
       "Week                           object\n",
       "climate change: (Worldwide)     int64\n",
       "dtype: object"
      ]
     },
     "execution_count": 30,
     "metadata": {},
     "output_type": "execute_result"
    }
   ],
   "source": [
    "data.dtypes"
   ]
  },
  {
   "cell_type": "code",
   "execution_count": 31,
   "id": "bdf5f5ec",
   "metadata": {},
   "outputs": [
    {
     "data": {
      "text/plain": [
       "Week\n",
       "2019-05-12    4\n",
       "2019-05-19    3\n",
       "2019-05-26    3\n",
       "2019-06-02    3\n",
       "2019-06-09    3\n",
       "Name: climate change: (Worldwide), dtype: int64"
      ]
     },
     "execution_count": 31,
     "metadata": {},
     "output_type": "execute_result"
    }
   ],
   "source": [
    "#Week column to datetime format\n",
    "\n",
    "data['Week'] = pd.to_datetime(data['Week'],  format='%d/%m/%Y')\n",
    "# Now 'Week' to be index \n",
    "data.dropna()\n",
    "data.set_index('Week', inplace = True)\n",
    "data = data['climate change: (Worldwide)']\n",
    "data.head()"
   ]
  },
  {
   "cell_type": "code",
   "execution_count": 32,
   "id": "97354fb3",
   "metadata": {},
   "outputs": [
    {
     "data": {
      "text/plain": [
       "DatetimeIndex(['2019-05-12', '2019-05-19', '2019-05-26', '2019-06-02',\n",
       "               '2019-06-09', '2019-06-16', '2019-06-23', '2019-06-30',\n",
       "               '2019-07-07', '2019-07-14',\n",
       "               ...\n",
       "               '2024-03-10', '2024-03-17', '2024-03-24', '2024-03-31',\n",
       "               '2024-04-07', '2024-04-14', '2024-04-21', '2024-04-28',\n",
       "               '2024-05-05', '2024-05-12'],\n",
       "              dtype='datetime64[ns]', name='Week', length=262, freq=None)"
      ]
     },
     "execution_count": 32,
     "metadata": {},
     "output_type": "execute_result"
    }
   ],
   "source": [
    "data.index"
   ]
  },
  {
   "cell_type": "code",
   "execution_count": 33,
   "id": "08e6e23d",
   "metadata": {},
   "outputs": [
    {
     "data": {
      "text/plain": [
       "'W-SUN'"
      ]
     },
     "execution_count": 33,
     "metadata": {},
     "output_type": "execute_result"
    }
   ],
   "source": [
    "data.index.inferred_freq"
   ]
  },
  {
   "cell_type": "code",
   "execution_count": 34,
   "id": "83daa05f",
   "metadata": {},
   "outputs": [
    {
     "data": {
      "text/plain": [
       "2019-05-12     4\n",
       "2019-05-19     3\n",
       "2019-05-26     3\n",
       "2019-06-02     3\n",
       "2019-06-09     3\n",
       "              ..\n",
       "2024-04-14     3\n",
       "2024-04-21    72\n",
       "2024-04-28     4\n",
       "2024-05-05     4\n",
       "2024-05-12     4\n",
       "Freq: W-SUN, Name: climate change: (Worldwide), Length: 262, dtype: int64"
      ]
     },
     "execution_count": 34,
     "metadata": {},
     "output_type": "execute_result"
    }
   ],
   "source": [
    "# For our model building later, we attach a data frequency to the times.\n",
    "# This is not essential but avoids warnings\n",
    "\n",
    "data.index = pd.DatetimeIndex(data.index.values,\n",
    "                               freq=data.index.inferred_freq)\n",
    "\n",
    "time_series = data\n",
    "time_series"
   ]
  },
  {
   "cell_type": "code",
   "execution_count": 35,
   "id": "0bcf9ef2",
   "metadata": {},
   "outputs": [
    {
     "data": {
      "image/png": "[encoded data removed]",
      "text/plain": [
       "<Figure size 800x600 with 1 Axes>"
      ]
     },
     "metadata": {},
     "output_type": "display_data"
    }
   ],
   "source": [
    "#visualising the data \n",
    "plt.figure(figsize = (8,6))\n",
    "plt.plot(time_series, '-o', label = 'original_data')\n",
    "plt.show()\n",
    "\n"
   ]
  },
  {
   "cell_type": "markdown",
   "id": "e2dc9cbb",
   "metadata": {},
   "source": [
    "## 3) Fitting- AR(p) model\n",
    "\n",
    "## Steps\n",
    "\n",
    "1) Using `ar_select_order()` to select the **optimal AR parameter** according to the **AIC** and **BIC**. \n",
    "\n",
    "2) Then fitting the **AR** model using `tsa.AutoReg()` and the optimal lag found\n",
    "\n",
    "3) **Prediction starting at the optimal lag value**. \n",
    "\n",
    "4) **Plotting** the resulting prediction and original time series"
   ]
  },
  {
   "cell_type": "code",
   "execution_count": 44,
   "id": "d038b7c3",
   "metadata": {},
   "outputs": [
    {
     "name": "stdout",
     "output_type": "stream",
     "text": [
      "<statsmodels.tsa.ar_model.AROrderSelectionResults object at 0x00000248BA4A8AD0>\n",
      "ar_select_order did not find any valid lags.\n"
     ]
    }
   ],
   "source": [
    "mod= ar_select_order(time_series, maxlag=10, ic ='aic')\n",
    "print(mod)\n",
    "# optlag = max(mod.ar_lags)\n",
    "if mod.ar_lags is not None:\n",
    "    \n",
    "    optlag = mod.ar_lags\n",
    "    print(f'Optimal p {optlag}')\n",
    "else:\n",
    "    print(\"ar_select_order did not find any valid lags.\")\n",
    "    \n",
    "\n",
    "# print(f'Optimal p {opt_lags}')"
   ]
  },
  {
   "cell_type": "code",
   "execution_count": 45,
   "id": "5a5cc090",
   "metadata": {},
   "outputs": [
    {
     "name": "stdout",
     "output_type": "stream",
     "text": [
      "<statsmodels.tsa.ar_model.AROrderSelectionResults object at 0x00000248BD3F4410>\n",
      "ar_select_order did not find any valid lags.\n"
     ]
    }
   ],
   "source": [
    "mod= ar_select_order(time_series, maxlag=10, ic ='bic')\n",
    "print(mod)\n",
    "# optlag = max(mod.ar_lags)\n",
    "if mod.ar_lags is not None:\n",
    "    \n",
    "    opt_lag = mod.ar_lags\n",
    "    print(f'Optimal p {opt_lag}')\n",
    "else:\n",
    "    print(\"ar_select_order did not find any valid lags.\")"
   ]
  },
  {
   "cell_type": "raw",
   "id": "a9a968d5",
   "metadata": {},
   "source": []
  },
  {
   "cell_type": "code",
   "execution_count": 51,
   "id": "c2fcc4b8",
   "metadata": {},
   "outputs": [
    {
     "name": "stdout",
     "output_type": "stream",
     "text": [
      "<statsmodels.tsa.ar_model.AutoRegResultsWrapper object at 0x00000248BBD9B7D0>\n"
     ]
    }
   ],
   "source": [
    "ar = AutoReg(data, lags = 3).fit()\n",
    "pred = ar.predict(start = 3)\n",
    "print(ar)"
   ]
  },
  {
   "cell_type": "code",
   "execution_count": 52,
   "id": "c16ca670",
   "metadata": {},
   "outputs": [
    {
     "data": {
      "text/plain": [
       "<matplotlib.legend.Legend at 0x248bcb11010>"
      ]
     },
     "execution_count": 52,
     "metadata": {},
     "output_type": "execute_result"
    },
    {
     "data": {
      "image/png": "[encoded data removed]",
      "text/plain": [
       "<Figure size 800x600 with 1 Axes>"
      ]
     },
     "metadata": {},
     "output_type": "display_data"
    }
   ],
   "source": [
    "plt.figure(figsize = (8,6))\n",
    "plt.plot(time_series, '-o', label = 'true')\n",
    "plt.plot(pred, '-o', label = 'model')\n",
    "plt.legend(fontsize=12)\n",
    "# plt.show()"
   ]
  },
  {
   "cell_type": "code",
   "execution_count": 54,
   "id": "a8d25a7f",
   "metadata": {},
   "outputs": [
    {
     "data": {
      "image/png": "[encoded data removed]",
      "text/plain": [
       "<Figure size 640x480 with 1 Axes>"
      ]
     },
     "metadata": {},
     "output_type": "display_data"
    },
    {
     "data": {
      "image/png": "[encoded data removed]",
      "text/plain": [
       "<Figure size 640x480 with 1 Axes>"
      ]
     },
     "metadata": {},
     "output_type": "display_data"
    }
   ],
   "source": [
    "fit_residuals = time_series[3:].values.flatten() - pred\n",
    "plt.plot(fit_residuals)\n",
    "plt.show()\n",
    "\n",
    "plot_acf(fit_residuals, lags=10)\n",
    "plt.show()"
   ]
  },
  {
   "cell_type": "markdown",
   "id": "db92c1e6",
   "metadata": {},
   "source": [
    "## 4) Forecasting - training and test set split\n",
    "\n",
    "\n",
    "\n",
    "* **Separate the time series** into a **training set and a test set** formed of the **last 40 points**. \n",
    " \n",
    "* **Fitting an AR model** on the training data and as we saw above we couldn't find optimal lags, will try again with training data\n",
    "  \n",
    "* **Predicting and show the prediction** on the original time series. **Did it do a good job**? \n",
    " \n",
    "* **Computing the MAE**\n"
   ]
  },
  {
   "cell_type": "code",
   "execution_count": 57,
   "id": "9ecf99de",
   "metadata": {},
   "outputs": [
    {
     "name": "stdout",
     "output_type": "stream",
     "text": [
      "ar_select_order did not find any valid lags.\n"
     ]
    }
   ],
   "source": [
    "#diving data into train and test \n",
    "\n",
    "train = time_series[:-40]\n",
    "test = time_series[-40:]\n",
    "\n",
    "# choosing the optimal lag for training data \n",
    "\n",
    "mod = ar_select_order(train, maxlag = 10, ic = 'bic')\n",
    "\n",
    "if mod.ar_lags is not None:\n",
    "      \n",
    "    optlag = max(mod.ar_lags)\n",
    "    print(f'Optimal p {optlag}')\n",
    "else:\n",
    "    print(\"ar_select_order did not find any valid lags.\")\n",
    "    \n"
   ]
  },
  {
   "cell_type": "code",
   "execution_count": 63,
   "id": "5cf1637e",
   "metadata": {},
   "outputs": [
    {
     "data": {
      "text/plain": [
       "DatetimeIndex(['2023-08-13', '2023-08-20', '2023-08-27', '2023-09-03',\n",
       "               '2023-09-10', '2023-09-17', '2023-09-24', '2023-10-01',\n",
       "               '2023-10-08', '2023-10-15', '2023-10-22', '2023-10-29',\n",
       "               '2023-11-05', '2023-11-12', '2023-11-19', '2023-11-26',\n",
       "               '2023-12-03', '2023-12-10', '2023-12-17', '2023-12-24',\n",
       "               '2023-12-31', '2024-01-07', '2024-01-14', '2024-01-21',\n",
       "               '2024-01-28', '2024-02-04', '2024-02-11', '2024-02-18',\n",
       "               '2024-02-25', '2024-03-03', '2024-03-10', '2024-03-17',\n",
       "               '2024-03-24', '2024-03-31', '2024-04-07', '2024-04-14',\n",
       "               '2024-04-21', '2024-04-28', '2024-05-05', '2024-05-12'],\n",
       "              dtype='datetime64[ns]', freq='W-SUN')"
      ]
     },
     "execution_count": 63,
     "metadata": {},
     "output_type": "execute_result"
    }
   ],
   "source": [
    "test.index"
   ]
  },
  {
   "cell_type": "code",
   "execution_count": 73,
   "id": "16a79475",
   "metadata": {},
   "outputs": [
    {
     "name": "stdout",
     "output_type": "stream",
     "text": [
      "2023-08-13    3.218194\n",
      "2023-08-20    3.312580\n",
      "2023-08-27    3.319893\n",
      "2023-09-03    3.320459\n",
      "2023-09-10    3.320503\n",
      "2023-09-17    3.320507\n",
      "2023-09-24    3.320507\n",
      "2023-10-01    3.320507\n",
      "2023-10-08    3.320507\n",
      "2023-10-15    3.320507\n",
      "2023-10-22    3.320507\n",
      "2023-10-29    3.320507\n",
      "2023-11-05    3.320507\n",
      "2023-11-12    3.320507\n",
      "2023-11-19    3.320507\n",
      "2023-11-26    3.320507\n",
      "2023-12-03    3.320507\n",
      "2023-12-10    3.320507\n",
      "2023-12-17    3.320507\n",
      "2023-12-24    3.320507\n",
      "2023-12-31    3.320507\n",
      "2024-01-07    3.320507\n",
      "2024-01-14    3.320507\n",
      "2024-01-21    3.320507\n",
      "2024-01-28    3.320507\n",
      "2024-02-04    3.320507\n",
      "2024-02-11    3.320507\n",
      "2024-02-18    3.320507\n",
      "2024-02-25    3.320507\n",
      "2024-03-03    3.320507\n",
      "2024-03-10    3.320507\n",
      "2024-03-17    3.320507\n",
      "2024-03-24    3.320507\n",
      "2024-03-31    3.320507\n",
      "2024-04-07    3.320507\n",
      "2024-04-14    3.320507\n",
      "2024-04-21    3.320507\n",
      "2024-04-28    3.320507\n",
      "2024-05-05    3.320507\n",
      "2024-05-12    3.320507\n",
      "Freq: W-SUN, dtype: float64\n"
     ]
    }
   ],
   "source": [
    "ar = AutoReg(train, lags = 1).fit() \n",
    "predictions = ar.predict(end =time_series.index[-1])[-len(test):]\n",
    "print(predictions)"
   ]
  },
  {
   "cell_type": "code",
   "execution_count": 74,
   "id": "a42b452b",
   "metadata": {},
   "outputs": [
    {
     "data": {
      "text/plain": [
       "<matplotlib.legend.Legend at 0x248c2171010>"
      ]
     },
     "execution_count": 74,
     "metadata": {},
     "output_type": "execute_result"
    },
    {
     "data": {
      "image/png": "[encoded data removed]",
      "text/plain": [
       "<Figure size 800x600 with 1 Axes>"
      ]
     },
     "metadata": {},
     "output_type": "display_data"
    }
   ],
   "source": [
    "plt.figure(figsize = (8,6))\n",
    "plt.plot(time_series, '-o', label = 'original_data')\n",
    "plt.plot(predictions, '-o', label = 'predictions')\n",
    "plt.legend(fontsize=12)\n",
    "# plt.show()"
   ]
  },
  {
   "cell_type": "code",
   "execution_count": 75,
   "id": "e075a425",
   "metadata": {},
   "outputs": [
    {
     "name": "stdout",
     "output_type": "stream",
     "text": [
      "Out of sample MAE = 2.204\n"
     ]
    }
   ],
   "source": [
    "print('Out of sample MAE = {0:.3f}'.format(mean_absolute_error(test, predictions)))"
   ]
  },
  {
   "cell_type": "markdown",
   "id": "746e581e",
   "metadata": {},
   "source": [
    "### ARMA process \n",
    " using `arma_order_select_ic()` to find the optimal parameters.\n",
    " Then fitting the **ARIMA** model using `tsa.arima.model.ARIMA()` \n"
   ]
  },
  {
   "cell_type": "code",
   "execution_count": 77,
   "id": "ffff2ff7",
   "metadata": {},
   "outputs": [
    {
     "name": "stderr",
     "output_type": "stream",
     "text": [
      "C:\\Users\\ishfa\\anaconda3\\Lib\\site-packages\\statsmodels\\tsa\\statespace\\sarimax.py:966: UserWarning: Non-stationary starting autoregressive parameters found. Using zeros as starting parameters.\n",
      "  warn('Non-stationary starting autoregressive parameters'\n",
      "C:\\Users\\ishfa\\anaconda3\\Lib\\site-packages\\statsmodels\\tsa\\statespace\\sarimax.py:978: UserWarning: Non-invertible starting MA parameters found. Using zeros as starting parameters.\n",
      "  warn('Non-invertible starting MA parameters found.'\n",
      "C:\\Users\\ishfa\\anaconda3\\Lib\\site-packages\\statsmodels\\base\\model.py:607: ConvergenceWarning: Maximum Likelihood optimization failed to converge. Check mle_retvals\n",
      "  warnings.warn(\"Maximum Likelihood optimization failed to \"\n"
     ]
    },
    {
     "name": "stdout",
     "output_type": "stream",
     "text": [
      "ARMA(p,q) = (0, 0)\n"
     ]
    }
   ],
   "source": [
    "#diving data into train and test \n",
    "\n",
    "train = time_series[:-40]\n",
    "test = time_series[-40:]\n",
    "\n",
    "# choosing the parameters\n",
    "\n",
    "param_choice = tsa.arma_order_select_ic(train, ic = 'bic', trend = 'c')\n",
    "print('ARMA(p,q) =',param_choice['bic_min_order'])\n"
   ]
  },
  {
   "cell_type": "code",
   "execution_count": 85,
   "id": "088492c3",
   "metadata": {},
   "outputs": [
    {
     "name": "stdout",
     "output_type": "stream",
     "text": [
      "Out of sample MAE = 2.207\n"
     ]
    },
    {
     "data": {
      "image/png": "[encoded data removed]",
      "text/plain": [
       "<Figure size 800x600 with 1 Axes>"
      ]
     },
     "metadata": {},
     "output_type": "display_data"
    }
   ],
   "source": [
    "arma = tsa.ARIMA(train, order=(1,0,0))\n",
    "arma_fit = arma.fit()\n",
    "\n",
    "start = len(train)\n",
    "end = len(train) + len(test) - 1\n",
    "predictions = arma_fit.predict(end =time_series.index[-1])[-len(test):]\n",
    "\n",
    "plt.figure(figsize=(8, 6))\n",
    "plt.plot(time_series, '-o', label=\"original data\")\n",
    "plt.plot(predictions, '--o', label='prediction')\n",
    "\n",
    "plt.legend(fontsize=12)\n",
    "\n",
    "# get the MAEs\n",
    "print('Out of sample MAE = {0:.3f}'.format(mean_absolute_error(test, predictions)))\n"
   ]
  }
 ],
 "metadata": {
  "kernelspec": {
   "display_name": "Python 3 (ipykernel)",
   "language": "python",
   "name": "python3"
  },
  "language_info": {
   "codemirror_mode": {
    "name": "ipython",
    "version": 3
   },
   "file_extension": ".py",
   "mimetype": "text/x-python",
   "name": "python",
   "nbconvert_exporter": "python",
   "pygments_lexer": "ipython3",
   "version": "3.11.7"
  }
 },
 "nbformat": 4,
 "nbformat_minor": 5
}
